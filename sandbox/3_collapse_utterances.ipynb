{
 "cells": [
  {
   "cell_type": "markdown",
   "metadata": {},
   "source": [
    "# Collapse utterances"
   ]
  },
  {
   "cell_type": "markdown",
   "metadata": {},
   "source": [
    "## Load data using postgres"
   ]
  },
  {
   "cell_type": "code",
   "execution_count": 1,
   "metadata": {
    "collapsed": false
   },
   "outputs": [
    {
     "name": "stderr",
     "output_type": "stream",
     "text": [
      "/Users/elahi/anaconda/envs/py27/lib/python2.7/site-packages/psycopg2/__init__.py:144: UserWarning: The psycopg2 wheel package will be renamed from release 2.8; in order to keep installing from binary please use \"pip install psycopg2-binary\" instead. For details see: <http://initd.org/psycopg/docs/install.html#binary-install-from-pypi>.\n",
      "  \"\"\")\n"
     ]
    },
    {
     "name": "stdout",
     "output_type": "stream",
     "text": [
      "postgres://elahi@localhost/phraze_db\n"
     ]
    },
    {
     "data": {
      "text/plain": [
       "<connection object at 0x105f06ad0; dsn: 'user=elahi dbname=phraze_db', closed: 0>"
      ]
     },
     "execution_count": 1,
     "metadata": {},
     "output_type": "execute_result"
    }
   ],
   "source": [
    "from sqlalchemy import create_engine\n",
    "from sqlalchemy_utils import database_exists, create_database\n",
    "import psycopg2\n",
    "import pandas as pd\n",
    "\n",
    "# Define a database name\n",
    "dbname = 'phraze_db'\n",
    "username = 'elahi' # change this to your username\n",
    "\n",
    "## 'engine' is a connection to a database\n",
    "engine = create_engine('postgres://%s@localhost/%s'%(username,dbname))\n",
    "print(engine.url)\n",
    "\n",
    "# Connect to make queries using psycopg2\n",
    "con = None\n",
    "con = psycopg2.connect(database = dbname, user = username)\n",
    "con"
   ]
  },
  {
   "cell_type": "code",
   "execution_count": 51,
   "metadata": {
    "collapsed": false
   },
   "outputs": [
    {
     "data": {
      "text/plain": [
       "(87003, 8)"
      ]
     },
     "execution_count": 51,
     "metadata": {},
     "output_type": "execute_result"
    }
   ],
   "source": [
    "# Load data and select relevant columns\n",
    "sql_query = \"\"\"SELECT * FROM phraze_data_table;\"\"\"\n",
    "df = pd.read_sql_query(sql_query, con)\n",
    "\n",
    "# Choose columns to keep\n",
    "columns_to_keep = ['ID', 'Line', 'UtteranceNumber', 'Role', \n",
    "                  'Text', 'Thread_number','note', 'note_cat']\n",
    "\n",
    "df = df[columns_to_keep]\n",
    "df.shape"
   ]
  },
  {
   "cell_type": "code",
   "execution_count": 52,
   "metadata": {
    "collapsed": false
   },
   "outputs": [
    {
     "name": "stdout",
     "output_type": "stream",
     "text": [
      "(87003, 8)\n",
      "(86274, 8)\n"
     ]
    }
   ],
   "source": [
    "# Drop duplicates\n",
    "df2 = df.drop_duplicates()\n",
    "print df.shape\n",
    "print df2.shape\n",
    "df = df.drop_duplicates()"
   ]
  },
  {
   "cell_type": "code",
   "execution_count": 53,
   "metadata": {
    "collapsed": false
   },
   "outputs": [],
   "source": [
    "import pandas as pd\n",
    "import numpy as np\n",
    "import re\n",
    "\n",
    "# To save output\n",
    "import pickle\n",
    "from __future__ import division"
   ]
  },
  {
   "cell_type": "code",
   "execution_count": 54,
   "metadata": {
    "collapsed": false
   },
   "outputs": [],
   "source": [
    "# Drop Thread_number or Text values that are None or NA\n",
    "df.dropna(inplace=True, subset = ['Role','Text','Thread_number','note'])\n",
    "df.shape\n",
    "df_original = df"
   ]
  },
  {
   "cell_type": "code",
   "execution_count": 127,
   "metadata": {
    "collapsed": false
   },
   "outputs": [
    {
     "name": "stdout",
     "output_type": "stream",
     "text": [
      "(20, 8)\n"
     ]
    },
    {
     "data": {
      "text/html": [
       "<div>\n",
       "<style scoped>\n",
       "    .dataframe tbody tr th:only-of-type {\n",
       "        vertical-align: middle;\n",
       "    }\n",
       "\n",
       "    .dataframe tbody tr th {\n",
       "        vertical-align: top;\n",
       "    }\n",
       "\n",
       "    .dataframe thead th {\n",
       "        text-align: right;\n",
       "    }\n",
       "</style>\n",
       "<table border=\"1\" class=\"dataframe\">\n",
       "  <thead>\n",
       "    <tr style=\"text-align: right;\">\n",
       "      <th></th>\n",
       "      <th>ID</th>\n",
       "      <th>Line</th>\n",
       "      <th>UtteranceNumber</th>\n",
       "      <th>Role</th>\n",
       "      <th>Text</th>\n",
       "      <th>Thread_number</th>\n",
       "      <th>note</th>\n",
       "      <th>note_cat</th>\n",
       "    </tr>\n",
       "  </thead>\n",
       "  <tbody>\n",
       "    <tr>\n",
       "      <th>3</th>\n",
       "      <td>HFC01P008_v_1 NM JB NM</td>\n",
       "      <td>4</td>\n",
       "      <td>4</td>\n",
       "      <td>RN</td>\n",
       "      <td>Looks like 110/70.</td>\n",
       "      <td>1</td>\n",
       "      <td>2</td>\n",
       "      <td>Assessment</td>\n",
       "    </tr>\n",
       "    <tr>\n",
       "      <th>4</th>\n",
       "      <td>HFC01P008_v_1 NM JB NM</td>\n",
       "      <td>4</td>\n",
       "      <td>5</td>\n",
       "      <td>RN</td>\n",
       "      <td>I just need a quick heart reading.  Y</td>\n",
       "      <td>78</td>\n",
       "      <td>1</td>\n",
       "      <td>Physical exam</td>\n",
       "    </tr>\n",
       "    <tr>\n",
       "      <th>5</th>\n",
       "      <td>HFC01P008_v_1 NM JB NM</td>\n",
       "      <td>4</td>\n",
       "      <td>6</td>\n",
       "      <td>RN</td>\n",
       "      <td>Yep, you're right -- 1</td>\n",
       "      <td>2</td>\n",
       "      <td>2</td>\n",
       "      <td>Assessment</td>\n",
       "    </tr>\n",
       "    <tr>\n",
       "      <th>6</th>\n",
       "      <td>HFC01P008_v_1 NM JB NM</td>\n",
       "      <td>4</td>\n",
       "      <td>7</td>\n",
       "      <td>RN</td>\n",
       "      <td>112</td>\n",
       "      <td>2</td>\n",
       "      <td>2</td>\n",
       "      <td>Assessment</td>\n",
       "    </tr>\n",
       "    <tr>\n",
       "      <th>7</th>\n",
       "      <td>HFC01P008_v_1 NM JB NM</td>\n",
       "      <td>4</td>\n",
       "      <td>8</td>\n",
       "      <td>RN</td>\n",
       "      <td>So how long has that been going on?</td>\n",
       "      <td>2</td>\n",
       "      <td>0</td>\n",
       "      <td>History of present illness</td>\n",
       "    </tr>\n",
       "  </tbody>\n",
       "</table>\n",
       "</div>"
      ],
      "text/plain": [
       "                       ID  Line  UtteranceNumber Role  \\\n",
       "3  HFC01P008_v_1 NM JB NM     4                4   RN   \n",
       "4  HFC01P008_v_1 NM JB NM     4                5   RN   \n",
       "5  HFC01P008_v_1 NM JB NM     4                6   RN   \n",
       "6  HFC01P008_v_1 NM JB NM     4                7   RN   \n",
       "7  HFC01P008_v_1 NM JB NM     4                8   RN   \n",
       "\n",
       "                                    Text Thread_number  note  \\\n",
       "3                     Looks like 110/70.             1     2   \n",
       "4  I just need a quick heart reading.  Y            78     1   \n",
       "5                 Yep, you're right -- 1             2     2   \n",
       "6                                    112             2     2   \n",
       "7    So how long has that been going on?             2     0   \n",
       "\n",
       "                     note_cat  \n",
       "3                  Assessment  \n",
       "4               Physical exam  \n",
       "5                  Assessment  \n",
       "6                  Assessment  \n",
       "7  History of present illness  "
      ]
     },
     "execution_count": 127,
     "metadata": {},
     "output_type": "execute_result"
    }
   ],
   "source": [
    "# Subset the data for testing\n",
    "df = df_original[:20]\n",
    "print df.shape\n",
    "df.head()"
   ]
  },
  {
   "cell_type": "code",
   "execution_count": 128,
   "metadata": {
    "collapsed": false
   },
   "outputs": [
    {
     "name": "stderr",
     "output_type": "stream",
     "text": [
      "/Users/elahi/anaconda/envs/py27/lib/python2.7/site-packages/ipykernel_launcher.py:5: SettingWithCopyWarning: \n",
      "A value is trying to be set on a copy of a slice from a DataFrame.\n",
      "Try using .loc[row_indexer,col_indexer] = value instead\n",
      "\n",
      "See the caveats in the documentation: http://pandas.pydata.org/pandas-docs/stable/indexing.html#indexing-view-versus-copy\n",
      "  \"\"\"\n",
      "/Users/elahi/anaconda/envs/py27/lib/python2.7/site-packages/ipykernel_launcher.py:6: SettingWithCopyWarning: \n",
      "A value is trying to be set on a copy of a slice from a DataFrame.\n",
      "Try using .loc[row_indexer,col_indexer] = value instead\n",
      "\n",
      "See the caveats in the documentation: http://pandas.pydata.org/pandas-docs/stable/indexing.html#indexing-view-versus-copy\n",
      "  \n"
     ]
    }
   ],
   "source": [
    "## Function to compare previous cell and return boolean whether the same value\n",
    "def comp_prev(a):\n",
    "    return np.concatenate(([False],a[1:] == a[:-1]))\n",
    "\n",
    "df['Role_match'] = comp_prev(df.Role.values)\n",
    "df['Note_match'] = comp_prev(df.note.values)"
   ]
  },
  {
   "cell_type": "code",
   "execution_count": 129,
   "metadata": {
    "collapsed": false
   },
   "outputs": [
    {
     "data": {
      "text/html": [
       "<div>\n",
       "<style scoped>\n",
       "    .dataframe tbody tr th:only-of-type {\n",
       "        vertical-align: middle;\n",
       "    }\n",
       "\n",
       "    .dataframe tbody tr th {\n",
       "        vertical-align: top;\n",
       "    }\n",
       "\n",
       "    .dataframe thead th {\n",
       "        text-align: right;\n",
       "    }\n",
       "</style>\n",
       "<table border=\"1\" class=\"dataframe\">\n",
       "  <thead>\n",
       "    <tr style=\"text-align: right;\">\n",
       "      <th></th>\n",
       "      <th>ID</th>\n",
       "      <th>Line</th>\n",
       "      <th>UtteranceNumber</th>\n",
       "      <th>Role</th>\n",
       "      <th>Text</th>\n",
       "      <th>Thread_number</th>\n",
       "      <th>note</th>\n",
       "      <th>note_cat</th>\n",
       "      <th>Role_match</th>\n",
       "      <th>Note_match</th>\n",
       "    </tr>\n",
       "  </thead>\n",
       "  <tbody>\n",
       "    <tr>\n",
       "      <th>3</th>\n",
       "      <td>HFC01P008_v_1 NM JB NM</td>\n",
       "      <td>4</td>\n",
       "      <td>4</td>\n",
       "      <td>RN</td>\n",
       "      <td>Looks like 110/70.</td>\n",
       "      <td>1</td>\n",
       "      <td>2</td>\n",
       "      <td>Assessment</td>\n",
       "      <td>False</td>\n",
       "      <td>False</td>\n",
       "    </tr>\n",
       "    <tr>\n",
       "      <th>4</th>\n",
       "      <td>HFC01P008_v_1 NM JB NM</td>\n",
       "      <td>4</td>\n",
       "      <td>5</td>\n",
       "      <td>RN</td>\n",
       "      <td>I just need a quick heart reading.  Y</td>\n",
       "      <td>78</td>\n",
       "      <td>1</td>\n",
       "      <td>Physical exam</td>\n",
       "      <td>True</td>\n",
       "      <td>False</td>\n",
       "    </tr>\n",
       "    <tr>\n",
       "      <th>5</th>\n",
       "      <td>HFC01P008_v_1 NM JB NM</td>\n",
       "      <td>4</td>\n",
       "      <td>6</td>\n",
       "      <td>RN</td>\n",
       "      <td>Yep, you're right -- 1</td>\n",
       "      <td>2</td>\n",
       "      <td>2</td>\n",
       "      <td>Assessment</td>\n",
       "      <td>True</td>\n",
       "      <td>False</td>\n",
       "    </tr>\n",
       "    <tr>\n",
       "      <th>6</th>\n",
       "      <td>HFC01P008_v_1 NM JB NM</td>\n",
       "      <td>4</td>\n",
       "      <td>7</td>\n",
       "      <td>RN</td>\n",
       "      <td>112</td>\n",
       "      <td>2</td>\n",
       "      <td>2</td>\n",
       "      <td>Assessment</td>\n",
       "      <td>True</td>\n",
       "      <td>True</td>\n",
       "    </tr>\n",
       "    <tr>\n",
       "      <th>7</th>\n",
       "      <td>HFC01P008_v_1 NM JB NM</td>\n",
       "      <td>4</td>\n",
       "      <td>8</td>\n",
       "      <td>RN</td>\n",
       "      <td>So how long has that been going on?</td>\n",
       "      <td>2</td>\n",
       "      <td>0</td>\n",
       "      <td>History of present illness</td>\n",
       "      <td>True</td>\n",
       "      <td>False</td>\n",
       "    </tr>\n",
       "  </tbody>\n",
       "</table>\n",
       "</div>"
      ],
      "text/plain": [
       "                       ID  Line  UtteranceNumber Role  \\\n",
       "3  HFC01P008_v_1 NM JB NM     4                4   RN   \n",
       "4  HFC01P008_v_1 NM JB NM     4                5   RN   \n",
       "5  HFC01P008_v_1 NM JB NM     4                6   RN   \n",
       "6  HFC01P008_v_1 NM JB NM     4                7   RN   \n",
       "7  HFC01P008_v_1 NM JB NM     4                8   RN   \n",
       "\n",
       "                                    Text Thread_number  note  \\\n",
       "3                     Looks like 110/70.             1     2   \n",
       "4  I just need a quick heart reading.  Y            78     1   \n",
       "5                 Yep, you're right -- 1             2     2   \n",
       "6                                    112             2     2   \n",
       "7    So how long has that been going on?             2     0   \n",
       "\n",
       "                     note_cat  Role_match  Note_match  \n",
       "3                  Assessment       False       False  \n",
       "4               Physical exam        True       False  \n",
       "5                  Assessment        True       False  \n",
       "6                  Assessment        True        True  \n",
       "7  History of present illness        True       False  "
      ]
     },
     "execution_count": 129,
     "metadata": {},
     "output_type": "execute_result"
    }
   ],
   "source": [
    "df[:5]"
   ]
  },
  {
   "cell_type": "code",
   "execution_count": 130,
   "metadata": {
    "collapsed": false
   },
   "outputs": [],
   "source": [
    "## Test if all matches are True, then same number = True\n",
    "## But if all matches are False, then same number = False\n",
    "\n",
    "# For each row:\n",
    "# 1. Extract Line_match, Role_match, Thread_match as array\n",
    "# 2. Use all() to test whether all are True\n",
    "# 3. Return this boolean as a new column"
   ]
  },
  {
   "cell_type": "code",
   "execution_count": 131,
   "metadata": {
    "collapsed": false
   },
   "outputs": [
    {
     "name": "stdout",
     "output_type": "stream",
     "text": [
      "[False False]\n",
      "False\n"
     ]
    }
   ],
   "source": [
    "test_row = df[0:1]\n",
    "test_array = np.array(test_row[['Role_match', 'Note_match']])[0]\n",
    "print test_array\n",
    "test_boolean = all(test_array)\n",
    "print test_boolean"
   ]
  },
  {
   "cell_type": "code",
   "execution_count": 132,
   "metadata": {
    "collapsed": false
   },
   "outputs": [
    {
     "name": "stdout",
     "output_type": "stream",
     "text": [
      "20\n"
     ]
    }
   ],
   "source": [
    "a = []\n",
    "for i in range(1, len(df)+1):\n",
    "    test_row = df[i-1:i]\n",
    "    test_array = np.array(test_row[['Role_match', 'Note_match']])[0]\n",
    "    test_boolean = all(test_array)\n",
    "    a.append(test_boolean)\n",
    "#print a\n",
    "print len(a)"
   ]
  },
  {
   "cell_type": "code",
   "execution_count": 133,
   "metadata": {
    "collapsed": false
   },
   "outputs": [
    {
     "name": "stdout",
     "output_type": "stream",
     "text": [
      "(20, 10)\n"
     ]
    },
    {
     "name": "stderr",
     "output_type": "stream",
     "text": [
      "/Users/elahi/anaconda/envs/py27/lib/python2.7/site-packages/ipykernel_launcher.py:2: SettingWithCopyWarning: \n",
      "A value is trying to be set on a copy of a slice from a DataFrame.\n",
      "Try using .loc[row_indexer,col_indexer] = value instead\n",
      "\n",
      "See the caveats in the documentation: http://pandas.pydata.org/pandas-docs/stable/indexing.html#indexing-view-versus-copy\n",
      "  \n"
     ]
    }
   ],
   "source": [
    "print df.shape\n",
    "df['same_number'] = a"
   ]
  },
  {
   "cell_type": "code",
   "execution_count": 134,
   "metadata": {
    "collapsed": false,
    "scrolled": true
   },
   "outputs": [
    {
     "data": {
      "text/html": [
       "<div>\n",
       "<style scoped>\n",
       "    .dataframe tbody tr th:only-of-type {\n",
       "        vertical-align: middle;\n",
       "    }\n",
       "\n",
       "    .dataframe tbody tr th {\n",
       "        vertical-align: top;\n",
       "    }\n",
       "\n",
       "    .dataframe thead th {\n",
       "        text-align: right;\n",
       "    }\n",
       "</style>\n",
       "<table border=\"1\" class=\"dataframe\">\n",
       "  <thead>\n",
       "    <tr style=\"text-align: right;\">\n",
       "      <th></th>\n",
       "      <th>ID</th>\n",
       "      <th>Line</th>\n",
       "      <th>UtteranceNumber</th>\n",
       "      <th>Role</th>\n",
       "      <th>Text</th>\n",
       "      <th>Thread_number</th>\n",
       "      <th>note</th>\n",
       "      <th>note_cat</th>\n",
       "      <th>Role_match</th>\n",
       "      <th>Note_match</th>\n",
       "      <th>same_number</th>\n",
       "    </tr>\n",
       "  </thead>\n",
       "  <tbody>\n",
       "    <tr>\n",
       "      <th>3</th>\n",
       "      <td>HFC01P008_v_1 NM JB NM</td>\n",
       "      <td>4</td>\n",
       "      <td>4</td>\n",
       "      <td>RN</td>\n",
       "      <td>Looks like 110/70.</td>\n",
       "      <td>1</td>\n",
       "      <td>2</td>\n",
       "      <td>Assessment</td>\n",
       "      <td>False</td>\n",
       "      <td>False</td>\n",
       "      <td>False</td>\n",
       "    </tr>\n",
       "    <tr>\n",
       "      <th>4</th>\n",
       "      <td>HFC01P008_v_1 NM JB NM</td>\n",
       "      <td>4</td>\n",
       "      <td>5</td>\n",
       "      <td>RN</td>\n",
       "      <td>I just need a quick heart reading.  Y</td>\n",
       "      <td>78</td>\n",
       "      <td>1</td>\n",
       "      <td>Physical exam</td>\n",
       "      <td>True</td>\n",
       "      <td>False</td>\n",
       "      <td>False</td>\n",
       "    </tr>\n",
       "    <tr>\n",
       "      <th>5</th>\n",
       "      <td>HFC01P008_v_1 NM JB NM</td>\n",
       "      <td>4</td>\n",
       "      <td>6</td>\n",
       "      <td>RN</td>\n",
       "      <td>Yep, you're right -- 1</td>\n",
       "      <td>2</td>\n",
       "      <td>2</td>\n",
       "      <td>Assessment</td>\n",
       "      <td>True</td>\n",
       "      <td>False</td>\n",
       "      <td>False</td>\n",
       "    </tr>\n",
       "    <tr>\n",
       "      <th>6</th>\n",
       "      <td>HFC01P008_v_1 NM JB NM</td>\n",
       "      <td>4</td>\n",
       "      <td>7</td>\n",
       "      <td>RN</td>\n",
       "      <td>112</td>\n",
       "      <td>2</td>\n",
       "      <td>2</td>\n",
       "      <td>Assessment</td>\n",
       "      <td>True</td>\n",
       "      <td>True</td>\n",
       "      <td>True</td>\n",
       "    </tr>\n",
       "    <tr>\n",
       "      <th>7</th>\n",
       "      <td>HFC01P008_v_1 NM JB NM</td>\n",
       "      <td>4</td>\n",
       "      <td>8</td>\n",
       "      <td>RN</td>\n",
       "      <td>So how long has that been going on?</td>\n",
       "      <td>2</td>\n",
       "      <td>0</td>\n",
       "      <td>History of present illness</td>\n",
       "      <td>True</td>\n",
       "      <td>False</td>\n",
       "      <td>False</td>\n",
       "    </tr>\n",
       "  </tbody>\n",
       "</table>\n",
       "</div>"
      ],
      "text/plain": [
       "                       ID  Line  UtteranceNumber Role  \\\n",
       "3  HFC01P008_v_1 NM JB NM     4                4   RN   \n",
       "4  HFC01P008_v_1 NM JB NM     4                5   RN   \n",
       "5  HFC01P008_v_1 NM JB NM     4                6   RN   \n",
       "6  HFC01P008_v_1 NM JB NM     4                7   RN   \n",
       "7  HFC01P008_v_1 NM JB NM     4                8   RN   \n",
       "\n",
       "                                    Text Thread_number  note  \\\n",
       "3                     Looks like 110/70.             1     2   \n",
       "4  I just need a quick heart reading.  Y            78     1   \n",
       "5                 Yep, you're right -- 1             2     2   \n",
       "6                                    112             2     2   \n",
       "7    So how long has that been going on?             2     0   \n",
       "\n",
       "                     note_cat  Role_match  Note_match  same_number  \n",
       "3                  Assessment       False       False        False  \n",
       "4               Physical exam        True       False        False  \n",
       "5                  Assessment        True       False        False  \n",
       "6                  Assessment        True        True         True  \n",
       "7  History of present illness        True       False        False  "
      ]
     },
     "execution_count": 134,
     "metadata": {},
     "output_type": "execute_result"
    }
   ],
   "source": [
    "df.head()"
   ]
  },
  {
   "cell_type": "code",
   "execution_count": 135,
   "metadata": {
    "collapsed": false
   },
   "outputs": [
    {
     "name": "stdout",
     "output_type": "stream",
     "text": [
      "[False]\n",
      "[False]\n",
      "2\n"
     ]
    },
    {
     "data": {
      "text/plain": [
       "[1]"
      ]
     },
     "execution_count": 135,
     "metadata": {},
     "output_type": "execute_result"
    }
   ],
   "source": [
    "# Assign new number based on boolean\n",
    "b = [1]\n",
    "i = 1\n",
    "same_number = df.same_number[i-1:i].values\n",
    "print(same_number)\n",
    "print(same_number == True)\n",
    "\n",
    "if same_number == True:\n",
    "    print i\n",
    "else: \n",
    "    print i+1\n",
    "\n",
    "b"
   ]
  },
  {
   "cell_type": "code",
   "execution_count": 144,
   "metadata": {
    "collapsed": false
   },
   "outputs": [
    {
     "data": {
      "text/plain": [
       "0"
      ]
     },
     "execution_count": 144,
     "metadata": {},
     "output_type": "execute_result"
    }
   ],
   "source": [
    "b = [10, 21, 3, 1, 0]\n",
    "b[-1]"
   ]
  },
  {
   "cell_type": "code",
   "execution_count": 145,
   "metadata": {
    "collapsed": false
   },
   "outputs": [
    {
     "data": {
      "text/plain": [
       "20"
      ]
     },
     "execution_count": 145,
     "metadata": {},
     "output_type": "execute_result"
    }
   ],
   "source": [
    "b = [1]\n",
    "for i in range(2, len(df)+1):\n",
    "    same_number = df.same_number[i-1:i].values\n",
    "    if same_number == True:\n",
    "        b.append(b[-1])\n",
    "    else:\n",
    "        b.append(b[-1]+1)\n",
    "len(b)"
   ]
  },
  {
   "cell_type": "code",
   "execution_count": 146,
   "metadata": {
    "collapsed": false
   },
   "outputs": [
    {
     "name": "stdout",
     "output_type": "stream",
     "text": [
      "[1, 2, 3, 3, 4, 5, 6, 7, 8, 9, 9, 9, 9, 10, 10, 11, 12, 13, 14, 15]\n",
      "[False False False  True False False False False False False  True  True\n",
      "  True False  True False False False False False]\n"
     ]
    }
   ],
   "source": [
    "print b\n",
    "print df.same_number.values"
   ]
  },
  {
   "cell_type": "code",
   "execution_count": 147,
   "metadata": {
    "collapsed": false
   },
   "outputs": [
    {
     "name": "stderr",
     "output_type": "stream",
     "text": [
      "/Users/elahi/anaconda/envs/py27/lib/python2.7/site-packages/ipykernel_launcher.py:1: SettingWithCopyWarning: \n",
      "A value is trying to be set on a copy of a slice from a DataFrame.\n",
      "Try using .loc[row_indexer,col_indexer] = value instead\n",
      "\n",
      "See the caveats in the documentation: http://pandas.pydata.org/pandas-docs/stable/indexing.html#indexing-view-versus-copy\n",
      "  \"\"\"Entry point for launching an IPython kernel.\n"
     ]
    }
   ],
   "source": [
    "df['phrase'] = b"
   ]
  },
  {
   "cell_type": "code",
   "execution_count": 148,
   "metadata": {
    "collapsed": true
   },
   "outputs": [],
   "source": [
    "df.to_csv(\"data_output/df_test_phrase_number.csv\")"
   ]
  },
  {
   "cell_type": "code",
   "execution_count": 149,
   "metadata": {
    "collapsed": false
   },
   "outputs": [
    {
     "data": {
      "text/plain": [
       "15"
      ]
     },
     "execution_count": 149,
     "metadata": {},
     "output_type": "execute_result"
    }
   ],
   "source": [
    "# Prep for the loop\n",
    "unique_lines = df.phrase.unique()\n",
    "lines_n = len(unique_lines)\n",
    "lines_n"
   ]
  },
  {
   "cell_type": "code",
   "execution_count": 154,
   "metadata": {
    "collapsed": false
   },
   "outputs": [
    {
     "data": {
      "text/html": [
       "<div>\n",
       "<style scoped>\n",
       "    .dataframe tbody tr th:only-of-type {\n",
       "        vertical-align: middle;\n",
       "    }\n",
       "\n",
       "    .dataframe tbody tr th {\n",
       "        vertical-align: top;\n",
       "    }\n",
       "\n",
       "    .dataframe thead th {\n",
       "        text-align: right;\n",
       "    }\n",
       "</style>\n",
       "<table border=\"1\" class=\"dataframe\">\n",
       "  <thead>\n",
       "    <tr style=\"text-align: right;\">\n",
       "      <th></th>\n",
       "      <th>ID</th>\n",
       "      <th>Line</th>\n",
       "      <th>UtteranceNumber</th>\n",
       "      <th>Role</th>\n",
       "      <th>Text</th>\n",
       "      <th>Thread_number</th>\n",
       "      <th>note</th>\n",
       "      <th>note_cat</th>\n",
       "      <th>Role_match</th>\n",
       "      <th>Note_match</th>\n",
       "      <th>same_number</th>\n",
       "      <th>phrase</th>\n",
       "    </tr>\n",
       "  </thead>\n",
       "  <tbody>\n",
       "    <tr>\n",
       "      <th>3</th>\n",
       "      <td>HFC01P008_v_1 NM JB NM</td>\n",
       "      <td>4</td>\n",
       "      <td>4</td>\n",
       "      <td>RN</td>\n",
       "      <td>Looks like 110/70.</td>\n",
       "      <td>1</td>\n",
       "      <td>2</td>\n",
       "      <td>Assessment</td>\n",
       "      <td>False</td>\n",
       "      <td>False</td>\n",
       "      <td>False</td>\n",
       "      <td>1</td>\n",
       "    </tr>\n",
       "  </tbody>\n",
       "</table>\n",
       "</div>"
      ],
      "text/plain": [
       "                       ID  Line  UtteranceNumber Role                Text  \\\n",
       "3  HFC01P008_v_1 NM JB NM     4                4   RN  Looks like 110/70.   \n",
       "\n",
       "  Thread_number  note    note_cat  Role_match  Note_match  same_number  phrase  \n",
       "3             1     2  Assessment       False       False        False       1  "
      ]
     },
     "execution_count": 154,
     "metadata": {},
     "output_type": "execute_result"
    }
   ],
   "source": [
    "# Initialize the dataset\n",
    "i = 0\n",
    "line_i = unique_lines[0]\n",
    "dat_new = df[df['phrase'] == line_i]\n",
    "dat_new"
   ]
  },
  {
   "cell_type": "code",
   "execution_count": 155,
   "metadata": {
    "collapsed": false
   },
   "outputs": [
    {
     "name": "stderr",
     "output_type": "stream",
     "text": [
      "/Users/elahi/anaconda/envs/py27/lib/python2.7/site-packages/pandas/core/frame.py:6201: FutureWarning: Sorting because non-concatenation axis is not aligned. A future version\n",
      "of pandas will change to not sort by default.\n",
      "\n",
      "To accept the future behavior, pass 'sort=True'.\n",
      "\n",
      "To retain the current behavior and silence the warning, pass sort=False\n",
      "\n",
      "  sort=sort)\n"
     ]
    }
   ],
   "source": [
    "lines_n\n",
    "range(1, lines_n)\n",
    "for i in range(1, lines_n):\n",
    "    line_i = unique_lines[i]\n",
    "    dat_i = df[df['phrase'] == line_i]\n",
    "    \n",
    "    a = []\n",
    "    for j in dat_i.Text:\n",
    "        a.append(j)\n",
    "        a2 = ' '.join(a)\n",
    "    \n",
    "    dat_i_slice = dat_i[0:1].reset_index()\n",
    "    dat_i_slice.drop('Text', axis = 1, inplace=True) # Drop text\n",
    "    dat_i_slice['Text'] = a2\n",
    "    \n",
    "    dat_new = dat_new.append(dat_i_slice)"
   ]
  },
  {
   "cell_type": "code",
   "execution_count": 157,
   "metadata": {
    "collapsed": false
   },
   "outputs": [],
   "source": [
    "# Export testing dataset for visual checks\n",
    "dat_new.to_csv(\"data_output/df_sub_new.csv\")\n",
    "df.to_csv(\"data_output/df_original.csv\")"
   ]
  },
  {
   "cell_type": "markdown",
   "metadata": {},
   "source": [
    "## Run on entire dataset"
   ]
  },
  {
   "cell_type": "code",
   "execution_count": 162,
   "metadata": {
    "collapsed": false
   },
   "outputs": [
    {
     "name": "stdout",
     "output_type": "stream",
     "text": [
      "(83817, 12)\n"
     ]
    },
    {
     "data": {
      "text/html": [
       "<div>\n",
       "<style scoped>\n",
       "    .dataframe tbody tr th:only-of-type {\n",
       "        vertical-align: middle;\n",
       "    }\n",
       "\n",
       "    .dataframe tbody tr th {\n",
       "        vertical-align: top;\n",
       "    }\n",
       "\n",
       "    .dataframe thead th {\n",
       "        text-align: right;\n",
       "    }\n",
       "</style>\n",
       "<table border=\"1\" class=\"dataframe\">\n",
       "  <thead>\n",
       "    <tr style=\"text-align: right;\">\n",
       "      <th></th>\n",
       "      <th>ID</th>\n",
       "      <th>Line</th>\n",
       "      <th>UtteranceNumber</th>\n",
       "      <th>Role</th>\n",
       "      <th>Text</th>\n",
       "      <th>Thread_number</th>\n",
       "      <th>note</th>\n",
       "      <th>note_cat</th>\n",
       "      <th>Role_match</th>\n",
       "      <th>Note_match</th>\n",
       "      <th>same_number</th>\n",
       "      <th>phrase</th>\n",
       "    </tr>\n",
       "  </thead>\n",
       "  <tbody>\n",
       "    <tr>\n",
       "      <th>86995</th>\n",
       "      <td>RI12P122_v_1_CD NM</td>\n",
       "      <td>184</td>\n",
       "      <td>444</td>\n",
       "      <td>P</td>\n",
       "      <td>Yes! I</td>\n",
       "      <td>6</td>\n",
       "      <td>3</td>\n",
       "      <td>Plan</td>\n",
       "      <td>False</td>\n",
       "      <td>True</td>\n",
       "      <td>False</td>\n",
       "      <td>50980</td>\n",
       "    </tr>\n",
       "    <tr>\n",
       "      <th>86996</th>\n",
       "      <td>RI12P122_v_1_CD NM</td>\n",
       "      <td>184</td>\n",
       "      <td>445</td>\n",
       "      <td>P</td>\n",
       "      <td>I win one.</td>\n",
       "      <td>6</td>\n",
       "      <td>3</td>\n",
       "      <td>Plan</td>\n",
       "      <td>True</td>\n",
       "      <td>True</td>\n",
       "      <td>True</td>\n",
       "      <td>50980</td>\n",
       "    </tr>\n",
       "    <tr>\n",
       "      <th>86997</th>\n",
       "      <td>RI12P122_v_1_CD NM</td>\n",
       "      <td>185</td>\n",
       "      <td>446</td>\n",
       "      <td>D</td>\n",
       "      <td>All right, so let's see here.  All right, c</td>\n",
       "      <td>33</td>\n",
       "      <td>6</td>\n",
       "      <td>Logistics</td>\n",
       "      <td>False</td>\n",
       "      <td>False</td>\n",
       "      <td>False</td>\n",
       "      <td>50981</td>\n",
       "    </tr>\n",
       "    <tr>\n",
       "      <th>86998</th>\n",
       "      <td>RI12P122_v_1_CD NM</td>\n",
       "      <td>185</td>\n",
       "      <td>447</td>\n",
       "      <td>D</td>\n",
       "      <td>come on, I'll meet you outside.</td>\n",
       "      <td>33</td>\n",
       "      <td>6</td>\n",
       "      <td>Logistics</td>\n",
       "      <td>True</td>\n",
       "      <td>True</td>\n",
       "      <td>True</td>\n",
       "      <td>50981</td>\n",
       "    </tr>\n",
       "    <tr>\n",
       "      <th>86999</th>\n",
       "      <td>RI12P122_v_1_CD NM</td>\n",
       "      <td>186</td>\n",
       "      <td>448</td>\n",
       "      <td>P</td>\n",
       "      <td>Okay.</td>\n",
       "      <td>33</td>\n",
       "      <td>6</td>\n",
       "      <td>Logistics</td>\n",
       "      <td>False</td>\n",
       "      <td>True</td>\n",
       "      <td>False</td>\n",
       "      <td>50982</td>\n",
       "    </tr>\n",
       "  </tbody>\n",
       "</table>\n",
       "</div>"
      ],
      "text/plain": [
       "                       ID  Line  UtteranceNumber Role  \\\n",
       "86995  RI12P122_v_1_CD NM   184              444    P   \n",
       "86996  RI12P122_v_1_CD NM   184              445    P   \n",
       "86997  RI12P122_v_1_CD NM   185              446    D   \n",
       "86998  RI12P122_v_1_CD NM   185              447    D   \n",
       "86999  RI12P122_v_1_CD NM   186              448    P   \n",
       "\n",
       "                                              Text Thread_number  note  \\\n",
       "86995                                       Yes! I             6     3   \n",
       "86996                                   I win one.             6     3   \n",
       "86997  All right, so let's see here.  All right, c            33     6   \n",
       "86998              come on, I'll meet you outside.            33     6   \n",
       "86999                                        Okay.            33     6   \n",
       "\n",
       "        note_cat  Role_match  Note_match  same_number  phrase  \n",
       "86995       Plan       False        True        False   50980  \n",
       "86996       Plan        True        True         True   50980  \n",
       "86997  Logistics       False       False        False   50981  \n",
       "86998  Logistics        True        True         True   50981  \n",
       "86999  Logistics       False        True        False   50982  "
      ]
     },
     "execution_count": 162,
     "metadata": {},
     "output_type": "execute_result"
    }
   ],
   "source": [
    "print df.shape"
   ]
  },
  {
   "cell_type": "code",
   "execution_count": 160,
   "metadata": {
    "collapsed": false
   },
   "outputs": [
    {
     "ename": "KeyboardInterrupt",
     "evalue": "",
     "output_type": "error",
     "traceback": [
      "\u001b[0;31m---------------------------------------------------------------------------\u001b[0m",
      "\u001b[0;31mKeyboardInterrupt\u001b[0m                         Traceback (most recent call last)",
      "\u001b[0;32m<ipython-input-160-2c00ebdb0390>\u001b[0m in \u001b[0;36m<module>\u001b[0;34m()\u001b[0m\n\u001b[1;32m     55\u001b[0m     \u001b[0mdat_i_slice\u001b[0m\u001b[0;34m[\u001b[0m\u001b[0;34m'Text'\u001b[0m\u001b[0;34m]\u001b[0m \u001b[0;34m=\u001b[0m \u001b[0ma2\u001b[0m\u001b[0;34m\u001b[0m\u001b[0m\n\u001b[1;32m     56\u001b[0m \u001b[0;34m\u001b[0m\u001b[0m\n\u001b[0;32m---> 57\u001b[0;31m     \u001b[0mdat_new\u001b[0m \u001b[0;34m=\u001b[0m \u001b[0mdat_new\u001b[0m\u001b[0;34m.\u001b[0m\u001b[0mappend\u001b[0m\u001b[0;34m(\u001b[0m\u001b[0mdat_i_slice\u001b[0m\u001b[0;34m)\u001b[0m\u001b[0;34m\u001b[0m\u001b[0m\n\u001b[0m",
      "\u001b[0;32m/Users/elahi/anaconda/envs/py27/lib/python2.7/site-packages/pandas/core/frame.pyc\u001b[0m in \u001b[0;36mappend\u001b[0;34m(self, other, ignore_index, verify_integrity, sort)\u001b[0m\n\u001b[1;32m   6199\u001b[0m         return concat(to_concat, ignore_index=ignore_index,\n\u001b[1;32m   6200\u001b[0m                       \u001b[0mverify_integrity\u001b[0m\u001b[0;34m=\u001b[0m\u001b[0mverify_integrity\u001b[0m\u001b[0;34m,\u001b[0m\u001b[0;34m\u001b[0m\u001b[0m\n\u001b[0;32m-> 6201\u001b[0;31m                       sort=sort)\n\u001b[0m\u001b[1;32m   6202\u001b[0m \u001b[0;34m\u001b[0m\u001b[0m\n\u001b[1;32m   6203\u001b[0m     def join(self, other, on=None, how='left', lsuffix='', rsuffix='',\n",
      "\u001b[0;32m/Users/elahi/anaconda/envs/py27/lib/python2.7/site-packages/pandas/core/reshape/concat.pyc\u001b[0m in \u001b[0;36mconcat\u001b[0;34m(objs, axis, join, join_axes, ignore_index, keys, levels, names, verify_integrity, sort, copy)\u001b[0m\n\u001b[1;32m    223\u001b[0m                        \u001b[0mkeys\u001b[0m\u001b[0;34m=\u001b[0m\u001b[0mkeys\u001b[0m\u001b[0;34m,\u001b[0m \u001b[0mlevels\u001b[0m\u001b[0;34m=\u001b[0m\u001b[0mlevels\u001b[0m\u001b[0;34m,\u001b[0m \u001b[0mnames\u001b[0m\u001b[0;34m=\u001b[0m\u001b[0mnames\u001b[0m\u001b[0;34m,\u001b[0m\u001b[0;34m\u001b[0m\u001b[0m\n\u001b[1;32m    224\u001b[0m                        \u001b[0mverify_integrity\u001b[0m\u001b[0;34m=\u001b[0m\u001b[0mverify_integrity\u001b[0m\u001b[0;34m,\u001b[0m\u001b[0;34m\u001b[0m\u001b[0m\n\u001b[0;32m--> 225\u001b[0;31m                        copy=copy, sort=sort)\n\u001b[0m\u001b[1;32m    226\u001b[0m     \u001b[0;32mreturn\u001b[0m \u001b[0mop\u001b[0m\u001b[0;34m.\u001b[0m\u001b[0mget_result\u001b[0m\u001b[0;34m(\u001b[0m\u001b[0;34m)\u001b[0m\u001b[0;34m\u001b[0m\u001b[0m\n\u001b[1;32m    227\u001b[0m \u001b[0;34m\u001b[0m\u001b[0m\n",
      "\u001b[0;32m/Users/elahi/anaconda/envs/py27/lib/python2.7/site-packages/pandas/core/reshape/concat.pyc\u001b[0m in \u001b[0;36m__init__\u001b[0;34m(self, objs, axis, join, join_axes, keys, levels, names, ignore_index, verify_integrity, copy, sort)\u001b[0m\n\u001b[1;32m    376\u001b[0m         \u001b[0mself\u001b[0m\u001b[0;34m.\u001b[0m\u001b[0mcopy\u001b[0m \u001b[0;34m=\u001b[0m \u001b[0mcopy\u001b[0m\u001b[0;34m\u001b[0m\u001b[0m\n\u001b[1;32m    377\u001b[0m \u001b[0;34m\u001b[0m\u001b[0m\n\u001b[0;32m--> 378\u001b[0;31m         \u001b[0mself\u001b[0m\u001b[0;34m.\u001b[0m\u001b[0mnew_axes\u001b[0m \u001b[0;34m=\u001b[0m \u001b[0mself\u001b[0m\u001b[0;34m.\u001b[0m\u001b[0m_get_new_axes\u001b[0m\u001b[0;34m(\u001b[0m\u001b[0;34m)\u001b[0m\u001b[0;34m\u001b[0m\u001b[0m\n\u001b[0m\u001b[1;32m    379\u001b[0m \u001b[0;34m\u001b[0m\u001b[0m\n\u001b[1;32m    380\u001b[0m     \u001b[0;32mdef\u001b[0m \u001b[0mget_result\u001b[0m\u001b[0;34m(\u001b[0m\u001b[0mself\u001b[0m\u001b[0;34m)\u001b[0m\u001b[0;34m:\u001b[0m\u001b[0;34m\u001b[0m\u001b[0m\n",
      "\u001b[0;32m/Users/elahi/anaconda/envs/py27/lib/python2.7/site-packages/pandas/core/reshape/concat.pyc\u001b[0m in \u001b[0;36m_get_new_axes\u001b[0;34m(self)\u001b[0m\n\u001b[1;32m    456\u001b[0m                 \u001b[0mnew_axes\u001b[0m\u001b[0;34m[\u001b[0m\u001b[0mi\u001b[0m\u001b[0;34m]\u001b[0m \u001b[0;34m=\u001b[0m \u001b[0max\u001b[0m\u001b[0;34m\u001b[0m\u001b[0m\n\u001b[1;32m    457\u001b[0m \u001b[0;34m\u001b[0m\u001b[0m\n\u001b[0;32m--> 458\u001b[0;31m         \u001b[0mnew_axes\u001b[0m\u001b[0;34m[\u001b[0m\u001b[0mself\u001b[0m\u001b[0;34m.\u001b[0m\u001b[0maxis\u001b[0m\u001b[0;34m]\u001b[0m \u001b[0;34m=\u001b[0m \u001b[0mself\u001b[0m\u001b[0;34m.\u001b[0m\u001b[0m_get_concat_axis\u001b[0m\u001b[0;34m(\u001b[0m\u001b[0;34m)\u001b[0m\u001b[0;34m\u001b[0m\u001b[0m\n\u001b[0m\u001b[1;32m    459\u001b[0m         \u001b[0;32mreturn\u001b[0m \u001b[0mnew_axes\u001b[0m\u001b[0;34m\u001b[0m\u001b[0m\n\u001b[1;32m    460\u001b[0m \u001b[0;34m\u001b[0m\u001b[0m\n",
      "\u001b[0;32m/Users/elahi/anaconda/envs/py27/lib/python2.7/site-packages/pandas/core/reshape/concat.pyc\u001b[0m in \u001b[0;36m_get_concat_axis\u001b[0;34m(self)\u001b[0m\n\u001b[1;32m    509\u001b[0m \u001b[0;34m\u001b[0m\u001b[0m\n\u001b[1;32m    510\u001b[0m         \u001b[0;32mif\u001b[0m \u001b[0mself\u001b[0m\u001b[0;34m.\u001b[0m\u001b[0mkeys\u001b[0m \u001b[0;32mis\u001b[0m \u001b[0mNone\u001b[0m\u001b[0;34m:\u001b[0m\u001b[0;34m\u001b[0m\u001b[0m\n\u001b[0;32m--> 511\u001b[0;31m             \u001b[0mconcat_axis\u001b[0m \u001b[0;34m=\u001b[0m \u001b[0m_concat_indexes\u001b[0m\u001b[0;34m(\u001b[0m\u001b[0mindexes\u001b[0m\u001b[0;34m)\u001b[0m\u001b[0;34m\u001b[0m\u001b[0m\n\u001b[0m\u001b[1;32m    512\u001b[0m         \u001b[0;32melse\u001b[0m\u001b[0;34m:\u001b[0m\u001b[0;34m\u001b[0m\u001b[0m\n\u001b[1;32m    513\u001b[0m             concat_axis = _make_concat_multiindex(indexes, self.keys,\n",
      "\u001b[0;32m/Users/elahi/anaconda/envs/py27/lib/python2.7/site-packages/pandas/core/reshape/concat.pyc\u001b[0m in \u001b[0;36m_concat_indexes\u001b[0;34m(indexes)\u001b[0m\n\u001b[1;32m    527\u001b[0m \u001b[0;34m\u001b[0m\u001b[0m\n\u001b[1;32m    528\u001b[0m \u001b[0;32mdef\u001b[0m \u001b[0m_concat_indexes\u001b[0m\u001b[0;34m(\u001b[0m\u001b[0mindexes\u001b[0m\u001b[0;34m)\u001b[0m\u001b[0;34m:\u001b[0m\u001b[0;34m\u001b[0m\u001b[0m\n\u001b[0;32m--> 529\u001b[0;31m     \u001b[0;32mreturn\u001b[0m \u001b[0mindexes\u001b[0m\u001b[0;34m[\u001b[0m\u001b[0;36m0\u001b[0m\u001b[0;34m]\u001b[0m\u001b[0;34m.\u001b[0m\u001b[0mappend\u001b[0m\u001b[0;34m(\u001b[0m\u001b[0mindexes\u001b[0m\u001b[0;34m[\u001b[0m\u001b[0;36m1\u001b[0m\u001b[0;34m:\u001b[0m\u001b[0;34m]\u001b[0m\u001b[0;34m)\u001b[0m\u001b[0;34m\u001b[0m\u001b[0m\n\u001b[0m\u001b[1;32m    530\u001b[0m \u001b[0;34m\u001b[0m\u001b[0m\n\u001b[1;32m    531\u001b[0m \u001b[0;34m\u001b[0m\u001b[0m\n",
      "\u001b[0;32m/Users/elahi/anaconda/envs/py27/lib/python2.7/site-packages/pandas/core/indexes/base.pyc\u001b[0m in \u001b[0;36mappend\u001b[0;34m(self, other)\u001b[0m\n\u001b[1;32m   2124\u001b[0m         \u001b[0mname\u001b[0m \u001b[0;34m=\u001b[0m \u001b[0mNone\u001b[0m \u001b[0;32mif\u001b[0m \u001b[0mlen\u001b[0m\u001b[0;34m(\u001b[0m\u001b[0mnames\u001b[0m\u001b[0;34m)\u001b[0m \u001b[0;34m>\u001b[0m \u001b[0;36m1\u001b[0m \u001b[0;32melse\u001b[0m \u001b[0mself\u001b[0m\u001b[0;34m.\u001b[0m\u001b[0mname\u001b[0m\u001b[0;34m\u001b[0m\u001b[0m\n\u001b[1;32m   2125\u001b[0m \u001b[0;34m\u001b[0m\u001b[0m\n\u001b[0;32m-> 2126\u001b[0;31m         \u001b[0;32mreturn\u001b[0m \u001b[0mself\u001b[0m\u001b[0;34m.\u001b[0m\u001b[0m_concat\u001b[0m\u001b[0;34m(\u001b[0m\u001b[0mto_concat\u001b[0m\u001b[0;34m,\u001b[0m \u001b[0mname\u001b[0m\u001b[0;34m)\u001b[0m\u001b[0;34m\u001b[0m\u001b[0m\n\u001b[0m\u001b[1;32m   2127\u001b[0m \u001b[0;34m\u001b[0m\u001b[0m\n\u001b[1;32m   2128\u001b[0m     \u001b[0;32mdef\u001b[0m \u001b[0m_concat\u001b[0m\u001b[0;34m(\u001b[0m\u001b[0mself\u001b[0m\u001b[0;34m,\u001b[0m \u001b[0mto_concat\u001b[0m\u001b[0;34m,\u001b[0m \u001b[0mname\u001b[0m\u001b[0;34m)\u001b[0m\u001b[0;34m:\u001b[0m\u001b[0;34m\u001b[0m\u001b[0m\n",
      "\u001b[0;32m/Users/elahi/anaconda/envs/py27/lib/python2.7/site-packages/pandas/core/indexes/base.pyc\u001b[0m in \u001b[0;36m_concat\u001b[0;34m(self, to_concat, name)\u001b[0m\n\u001b[1;32m   2132\u001b[0m         \u001b[0;32mif\u001b[0m \u001b[0mlen\u001b[0m\u001b[0;34m(\u001b[0m\u001b[0mtyps\u001b[0m\u001b[0;34m)\u001b[0m \u001b[0;34m==\u001b[0m \u001b[0;36m1\u001b[0m\u001b[0;34m:\u001b[0m\u001b[0;34m\u001b[0m\u001b[0m\n\u001b[1;32m   2133\u001b[0m             \u001b[0;32mreturn\u001b[0m \u001b[0mself\u001b[0m\u001b[0;34m.\u001b[0m\u001b[0m_concat_same_dtype\u001b[0m\u001b[0;34m(\u001b[0m\u001b[0mto_concat\u001b[0m\u001b[0;34m,\u001b[0m \u001b[0mname\u001b[0m\u001b[0;34m=\u001b[0m\u001b[0mname\u001b[0m\u001b[0;34m)\u001b[0m\u001b[0;34m\u001b[0m\u001b[0m\n\u001b[0;32m-> 2134\u001b[0;31m         \u001b[0;32mreturn\u001b[0m \u001b[0m_concat\u001b[0m\u001b[0;34m.\u001b[0m\u001b[0m_concat_index_asobject\u001b[0m\u001b[0;34m(\u001b[0m\u001b[0mto_concat\u001b[0m\u001b[0;34m,\u001b[0m \u001b[0mname\u001b[0m\u001b[0;34m=\u001b[0m\u001b[0mname\u001b[0m\u001b[0;34m)\u001b[0m\u001b[0;34m\u001b[0m\u001b[0m\n\u001b[0m\u001b[1;32m   2135\u001b[0m \u001b[0;34m\u001b[0m\u001b[0m\n\u001b[1;32m   2136\u001b[0m     \u001b[0;32mdef\u001b[0m \u001b[0m_concat_same_dtype\u001b[0m\u001b[0;34m(\u001b[0m\u001b[0mself\u001b[0m\u001b[0;34m,\u001b[0m \u001b[0mto_concat\u001b[0m\u001b[0;34m,\u001b[0m \u001b[0mname\u001b[0m\u001b[0;34m)\u001b[0m\u001b[0;34m:\u001b[0m\u001b[0;34m\u001b[0m\u001b[0m\n",
      "\u001b[0;32m/Users/elahi/anaconda/envs/py27/lib/python2.7/site-packages/pandas/core/dtypes/concat.pyc\u001b[0m in \u001b[0;36m_concat_index_asobject\u001b[0;34m(to_concat, name)\u001b[0m\n\u001b[1;32m    532\u001b[0m     to_concat = [x._values if isinstance(x, Index) else x\n\u001b[1;32m    533\u001b[0m                  for x in to_concat]\n\u001b[0;32m--> 534\u001b[0;31m     \u001b[0;32mreturn\u001b[0m \u001b[0mself\u001b[0m\u001b[0;34m.\u001b[0m\u001b[0m_shallow_copy_with_infer\u001b[0m\u001b[0;34m(\u001b[0m\u001b[0mnp\u001b[0m\u001b[0;34m.\u001b[0m\u001b[0mconcatenate\u001b[0m\u001b[0;34m(\u001b[0m\u001b[0mto_concat\u001b[0m\u001b[0;34m)\u001b[0m\u001b[0;34m,\u001b[0m \u001b[0;34m**\u001b[0m\u001b[0mattribs\u001b[0m\u001b[0;34m)\u001b[0m\u001b[0;34m\u001b[0m\u001b[0m\n\u001b[0m\u001b[1;32m    535\u001b[0m \u001b[0;34m\u001b[0m\u001b[0m\n\u001b[1;32m    536\u001b[0m \u001b[0;34m\u001b[0m\u001b[0m\n",
      "\u001b[0;32m/Users/elahi/anaconda/envs/py27/lib/python2.7/site-packages/pandas/core/indexes/base.pyc\u001b[0m in \u001b[0;36m_shallow_copy_with_infer\u001b[0;34m(self, values, **kwargs)\u001b[0m\n\u001b[1;32m    529\u001b[0m             \u001b[0;32mexcept\u001b[0m \u001b[0;34m(\u001b[0m\u001b[0mTypeError\u001b[0m\u001b[0;34m,\u001b[0m \u001b[0mValueError\u001b[0m\u001b[0;34m)\u001b[0m\u001b[0;34m:\u001b[0m\u001b[0;34m\u001b[0m\u001b[0m\n\u001b[1;32m    530\u001b[0m                 \u001b[0;32mpass\u001b[0m\u001b[0;34m\u001b[0m\u001b[0m\n\u001b[0;32m--> 531\u001b[0;31m         \u001b[0;32mreturn\u001b[0m \u001b[0mIndex\u001b[0m\u001b[0;34m(\u001b[0m\u001b[0mvalues\u001b[0m\u001b[0;34m,\u001b[0m \u001b[0;34m**\u001b[0m\u001b[0mattributes\u001b[0m\u001b[0;34m)\u001b[0m\u001b[0;34m\u001b[0m\u001b[0m\n\u001b[0m\u001b[1;32m    532\u001b[0m \u001b[0;34m\u001b[0m\u001b[0m\n\u001b[1;32m    533\u001b[0m     \u001b[0;32mdef\u001b[0m \u001b[0m_deepcopy_if_needed\u001b[0m\u001b[0;34m(\u001b[0m\u001b[0mself\u001b[0m\u001b[0;34m,\u001b[0m \u001b[0morig\u001b[0m\u001b[0;34m,\u001b[0m \u001b[0mcopy\u001b[0m\u001b[0;34m=\u001b[0m\u001b[0mFalse\u001b[0m\u001b[0;34m)\u001b[0m\u001b[0;34m:\u001b[0m\u001b[0;34m\u001b[0m\u001b[0m\n",
      "\u001b[0;32m/Users/elahi/anaconda/envs/py27/lib/python2.7/site-packages/pandas/core/indexes/base.pyc\u001b[0m in \u001b[0;36m__new__\u001b[0;34m(cls, data, dtype, copy, name, fastpath, tupleize_cols, **kwargs)\u001b[0m\n\u001b[1;32m    357\u001b[0m             \u001b[0;32mif\u001b[0m \u001b[0mis_signed_integer_dtype\u001b[0m\u001b[0;34m(\u001b[0m\u001b[0mdata\u001b[0m\u001b[0;34m.\u001b[0m\u001b[0mdtype\u001b[0m\u001b[0;34m)\u001b[0m\u001b[0;34m:\u001b[0m\u001b[0;34m\u001b[0m\u001b[0m\n\u001b[1;32m    358\u001b[0m                 \u001b[0;32mfrom\u001b[0m \u001b[0;34m.\u001b[0m\u001b[0mnumeric\u001b[0m \u001b[0;32mimport\u001b[0m \u001b[0mInt64Index\u001b[0m\u001b[0;34m\u001b[0m\u001b[0m\n\u001b[0;32m--> 359\u001b[0;31m                 \u001b[0;32mreturn\u001b[0m \u001b[0mInt64Index\u001b[0m\u001b[0;34m(\u001b[0m\u001b[0mdata\u001b[0m\u001b[0;34m,\u001b[0m \u001b[0mcopy\u001b[0m\u001b[0;34m=\u001b[0m\u001b[0mcopy\u001b[0m\u001b[0;34m,\u001b[0m \u001b[0mdtype\u001b[0m\u001b[0;34m=\u001b[0m\u001b[0mdtype\u001b[0m\u001b[0;34m,\u001b[0m \u001b[0mname\u001b[0m\u001b[0;34m=\u001b[0m\u001b[0mname\u001b[0m\u001b[0;34m)\u001b[0m\u001b[0;34m\u001b[0m\u001b[0m\n\u001b[0m\u001b[1;32m    360\u001b[0m             \u001b[0;32melif\u001b[0m \u001b[0mis_unsigned_integer_dtype\u001b[0m\u001b[0;34m(\u001b[0m\u001b[0mdata\u001b[0m\u001b[0;34m.\u001b[0m\u001b[0mdtype\u001b[0m\u001b[0;34m)\u001b[0m\u001b[0;34m:\u001b[0m\u001b[0;34m\u001b[0m\u001b[0m\n\u001b[1;32m    361\u001b[0m                 \u001b[0;32mfrom\u001b[0m \u001b[0;34m.\u001b[0m\u001b[0mnumeric\u001b[0m \u001b[0;32mimport\u001b[0m \u001b[0mUInt64Index\u001b[0m\u001b[0;34m\u001b[0m\u001b[0m\n",
      "\u001b[0;32m/Users/elahi/anaconda/envs/py27/lib/python2.7/site-packages/pandas/core/indexes/numeric.pyc\u001b[0m in \u001b[0;36m__new__\u001b[0;34m(cls, data, dtype, copy, name, fastpath)\u001b[0m\n\u001b[1;32m     45\u001b[0m             \u001b[0mcls\u001b[0m\u001b[0;34m.\u001b[0m\u001b[0m_string_data_error\u001b[0m\u001b[0;34m(\u001b[0m\u001b[0mdata\u001b[0m\u001b[0;34m)\u001b[0m\u001b[0;34m\u001b[0m\u001b[0m\n\u001b[1;32m     46\u001b[0m \u001b[0;34m\u001b[0m\u001b[0m\n\u001b[0;32m---> 47\u001b[0;31m         \u001b[0;32mif\u001b[0m \u001b[0mcopy\u001b[0m \u001b[0;32mor\u001b[0m \u001b[0;32mnot\u001b[0m \u001b[0mis_dtype_equal\u001b[0m\u001b[0;34m(\u001b[0m\u001b[0mdata\u001b[0m\u001b[0;34m.\u001b[0m\u001b[0mdtype\u001b[0m\u001b[0;34m,\u001b[0m \u001b[0mcls\u001b[0m\u001b[0;34m.\u001b[0m\u001b[0m_default_dtype\u001b[0m\u001b[0;34m)\u001b[0m\u001b[0;34m:\u001b[0m\u001b[0;34m\u001b[0m\u001b[0m\n\u001b[0m\u001b[1;32m     48\u001b[0m             \u001b[0msubarr\u001b[0m \u001b[0;34m=\u001b[0m \u001b[0mnp\u001b[0m\u001b[0;34m.\u001b[0m\u001b[0marray\u001b[0m\u001b[0;34m(\u001b[0m\u001b[0mdata\u001b[0m\u001b[0;34m,\u001b[0m \u001b[0mdtype\u001b[0m\u001b[0;34m=\u001b[0m\u001b[0mcls\u001b[0m\u001b[0;34m.\u001b[0m\u001b[0m_default_dtype\u001b[0m\u001b[0;34m,\u001b[0m \u001b[0mcopy\u001b[0m\u001b[0;34m=\u001b[0m\u001b[0mcopy\u001b[0m\u001b[0;34m)\u001b[0m\u001b[0;34m\u001b[0m\u001b[0m\n\u001b[1;32m     49\u001b[0m             \u001b[0mcls\u001b[0m\u001b[0;34m.\u001b[0m\u001b[0m_assert_safe_casting\u001b[0m\u001b[0;34m(\u001b[0m\u001b[0mdata\u001b[0m\u001b[0;34m,\u001b[0m \u001b[0msubarr\u001b[0m\u001b[0;34m)\u001b[0m\u001b[0;34m\u001b[0m\u001b[0m\n",
      "\u001b[0;32m/Users/elahi/anaconda/envs/py27/lib/python2.7/site-packages/pandas/core/dtypes/common.pyc\u001b[0m in \u001b[0;36mis_dtype_equal\u001b[0;34m(source, target)\u001b[0m\n\u001b[1;32m    717\u001b[0m     \"\"\"\n\u001b[1;32m    718\u001b[0m \u001b[0;34m\u001b[0m\u001b[0m\n\u001b[0;32m--> 719\u001b[0;31m     \u001b[0;32mtry\u001b[0m\u001b[0;34m:\u001b[0m\u001b[0;34m\u001b[0m\u001b[0m\n\u001b[0m\u001b[1;32m    720\u001b[0m         \u001b[0msource\u001b[0m \u001b[0;34m=\u001b[0m \u001b[0m_get_dtype\u001b[0m\u001b[0;34m(\u001b[0m\u001b[0msource\u001b[0m\u001b[0;34m)\u001b[0m\u001b[0;34m\u001b[0m\u001b[0m\n\u001b[1;32m    721\u001b[0m         \u001b[0mtarget\u001b[0m \u001b[0;34m=\u001b[0m \u001b[0m_get_dtype\u001b[0m\u001b[0;34m(\u001b[0m\u001b[0mtarget\u001b[0m\u001b[0;34m)\u001b[0m\u001b[0;34m\u001b[0m\u001b[0m\n",
      "\u001b[0;31mKeyboardInterrupt\u001b[0m: "
     ]
    }
   ],
   "source": [
    "df = df_original\n",
    "\n",
    "## Function to compare previous cell and return boolean whether the same value\n",
    "def comp_prev(a):\n",
    "    return np.concatenate(([False],a[1:] == a[:-1]))\n",
    "df['Role_match'] = comp_prev(df.Role.values)\n",
    "df['Note_match'] = comp_prev(df.note.values)\n",
    "\n",
    "## Does the speaker role and note of the current row match the previous row?\n",
    "## (i.e., should this be the same phrase number? True/False)\n",
    "a = []\n",
    "for i in range(1, len(df)+1):\n",
    "    test_row = df[i-1:i]\n",
    "    test_array = np.array(test_row[['Role_match', 'Note_match']])[0]\n",
    "    test_boolean = all(test_array)\n",
    "    a.append(test_boolean)\n",
    "df['same_number'] = a\n",
    "\n",
    "## Assign phrase numbers, starting with 1. \n",
    "## If same_number == True, use previous number; otherwise use previous number + 1\n",
    "b = [1]\n",
    "for i in range(2, len(df)+1):\n",
    "    same_number = df.same_number[i-1:i].values\n",
    "    if same_number == True:\n",
    "        b.append(b[-1])\n",
    "    else:\n",
    "        b.append(b[-1]+1)        \n",
    "df['phrase'] = b"
   ]
  },
  {
   "cell_type": "code",
   "execution_count": 166,
   "metadata": {
    "collapsed": false
   },
   "outputs": [
    {
     "name": "stdout",
     "output_type": "stream",
     "text": [
      "                       ID  Line  UtteranceNumber Role  \\\n",
      "86995  RI12P122_v_1_CD NM   184              444    P   \n",
      "86996  RI12P122_v_1_CD NM   184              445    P   \n",
      "86997  RI12P122_v_1_CD NM   185              446    D   \n",
      "86998  RI12P122_v_1_CD NM   185              447    D   \n",
      "86999  RI12P122_v_1_CD NM   186              448    P   \n",
      "\n",
      "                                              Text Thread_number  note  \\\n",
      "86995                                       Yes! I             6     3   \n",
      "86996                                   I win one.             6     3   \n",
      "86997  All right, so let's see here.  All right, c            33     6   \n",
      "86998              come on, I'll meet you outside.            33     6   \n",
      "86999                                        Okay.            33     6   \n",
      "\n",
      "        note_cat  Role_match  Note_match  same_number  phrase  \n",
      "86995       Plan       False        True        False   50980  \n",
      "86996       Plan        True        True         True   50980  \n",
      "86997  Logistics       False       False        False   50981  \n",
      "86998  Logistics        True        True         True   50981  \n",
      "86999  Logistics       False        True        False   50982  \n"
     ]
    }
   ],
   "source": [
    "print df.tail()"
   ]
  },
  {
   "cell_type": "code",
   "execution_count": 167,
   "metadata": {
    "collapsed": true
   },
   "outputs": [],
   "source": [
    "## Concatenate the Text, by phrase number \n",
    "# Prep for the loop\n",
    "unique_lines = df.phrase.unique()\n",
    "lines_n = len(unique_lines)\n",
    "\n",
    "# Initialize the dataset\n",
    "i = 0\n",
    "line_i = unique_lines[0]\n",
    "dat_new = df[df['phrase'] == line_i]\n",
    "\n",
    "# Run the loop\n",
    "for i in range(1, lines_n):\n",
    "    line_i = unique_lines[i]\n",
    "    dat_i = df[df['phrase'] == line_i]\n",
    "    \n",
    "    a = []\n",
    "    for j in dat_i.Text:\n",
    "        a.append(j)\n",
    "        a2 = ' '.join(a)\n",
    "    \n",
    "    dat_i_slice = dat_i[0:1].reset_index()\n",
    "    dat_i_slice.drop('Text', axis = 1, inplace=True) # Drop text\n",
    "    dat_i_slice['Text'] = a2\n",
    "    \n",
    "    dat_new = dat_new.append(dat_i_slice)"
   ]
  },
  {
   "cell_type": "code",
   "execution_count": 168,
   "metadata": {
    "collapsed": false
   },
   "outputs": [
    {
     "data": {
      "text/plain": [
       "(50982, 13)"
      ]
     },
     "execution_count": 168,
     "metadata": {},
     "output_type": "execute_result"
    }
   ],
   "source": [
    "# started at 2:07pm\n",
    "# finished at 2:59pm\n",
    "dat_new.shape"
   ]
  },
  {
   "cell_type": "code",
   "execution_count": 169,
   "metadata": {
    "collapsed": true
   },
   "outputs": [],
   "source": [
    "dat_new.to_csv(\"data_output/phraze_data_collapsed.csv\")"
   ]
  },
  {
   "cell_type": "code",
   "execution_count": null,
   "metadata": {
    "collapsed": true
   },
   "outputs": [],
   "source": []
  }
 ],
 "metadata": {
  "kernelspec": {
   "display_name": "Python 2",
   "language": "python",
   "name": "python2"
  },
  "language_info": {
   "codemirror_mode": {
    "name": "ipython",
    "version": 2
   },
   "file_extension": ".py",
   "mimetype": "text/x-python",
   "name": "python",
   "nbconvert_exporter": "python",
   "pygments_lexer": "ipython2",
   "version": "2.7.15"
  }
 },
 "nbformat": 4,
 "nbformat_minor": 0
}
